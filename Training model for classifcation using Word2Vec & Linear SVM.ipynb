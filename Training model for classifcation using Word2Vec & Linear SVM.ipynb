{
 "cells": [
  {
   "cell_type": "markdown",
   "metadata": {},
   "source": [
    "## Classification using Word2Vec and Extra Trees Classifiers\n",
    "\n",
    "This script describes how text data can be embedded using Word2Vec and used to train Extra Tree classiifers for classification into categories. Here, the text data example used are noise complaints."
   ]
  },
  {
   "cell_type": "code",
   "execution_count": 2,
   "metadata": {},
   "outputs": [],
   "source": [
    "import os\n",
    "from tabulate import tabulate\n",
    "%matplotlib inline\n",
    "import matplotlib.pyplot as plt\n",
    "import seaborn as sns\n",
    "import pandas as pd\n",
    "import numpy as np\n",
    "import gensim\n",
    "from gensim.models.word2vec import Word2Vec\n",
    "from sklearn import utils\n",
    "from sklearn.model_selection import train_test_split\n",
    "import regex as re\n",
    "import string\n",
    "from collections import Counter, defaultdict\n",
    "from sklearn.feature_extraction.text import TfidfVectorizer\n",
    "from sklearn.ensemble import ExtraTreesClassifier\n",
    "from sklearn.pipeline import Pipeline\n",
    "from sklearn.metrics import accuracy_score, f1_score\n",
    "from sklearn.metrics import classification_report\n",
    "from sklearn.model_selection import cross_val_score\n",
    "import dill as pickle\n",
    "\n",
    "GLOVE_6B_50D_PATH = \"glove.6B.50d.txt\"\n",
    "encoding=\"utf-8\""
   ]
  },
  {
   "cell_type": "code",
   "execution_count": 3,
   "metadata": {},
   "outputs": [
    {
     "data": {
      "text/html": [
       "<div>\n",
       "<style scoped>\n",
       "    .dataframe tbody tr th:only-of-type {\n",
       "        vertical-align: middle;\n",
       "    }\n",
       "\n",
       "    .dataframe tbody tr th {\n",
       "        vertical-align: top;\n",
       "    }\n",
       "\n",
       "    .dataframe thead th {\n",
       "        text-align: right;\n",
       "    }\n",
       "</style>\n",
       "<table border=\"1\" class=\"dataframe\">\n",
       "  <thead>\n",
       "    <tr style=\"text-align: right;\">\n",
       "      <th></th>\n",
       "      <th>CONTENT</th>\n",
       "      <th>CONTENT_label</th>\n",
       "    </tr>\n",
       "  </thead>\n",
       "  <tbody>\n",
       "    <tr>\n",
       "      <th>0</th>\n",
       "      <td>10am to 11am - resd f/b that the many prc ever...</td>\n",
       "      <td>Congregation</td>\n",
       "    </tr>\n",
       "    <tr>\n",
       "      <th>1</th>\n",
       "      <td>email i would like to share another feedback o...</td>\n",
       "      <td>Congregation</td>\n",
       "    </tr>\n",
       "    <tr>\n",
       "      <th>2</th>\n",
       "      <td>every week from monday to friday about 7pm to ...</td>\n",
       "      <td>Congregation</td>\n",
       "    </tr>\n",
       "    <tr>\n",
       "      <th>3</th>\n",
       "      <td>children shouting &amp; playing at v/deck blk 127 ...</td>\n",
       "      <td>Congregation</td>\n",
       "    </tr>\n",
       "    <tr>\n",
       "      <th>4</th>\n",
       "      <td>blk 703 and 704 - kids still playing at v/deck...</td>\n",
       "      <td>Congregation</td>\n",
       "    </tr>\n",
       "    <tr>\n",
       "      <th>5</th>\n",
       "      <td>grp of youth playing basket ball &amp; making alot...</td>\n",
       "      <td>Congregation</td>\n",
       "    </tr>\n",
       "    <tr>\n",
       "      <th>6</th>\n",
       "      <td>youth playing skateboard at mph. very noisy._</td>\n",
       "      <td>Congregation</td>\n",
       "    </tr>\n",
       "    <tr>\n",
       "      <th>7</th>\n",
       "      <td>group of people playing music very loud at ope...</td>\n",
       "      <td>Congregation</td>\n",
       "    </tr>\n",
       "    <tr>\n",
       "      <th>8</th>\n",
       "      <td>kids playing &amp; shouting @ v/deck.  very noisy....</td>\n",
       "      <td>Congregation</td>\n",
       "    </tr>\n",
       "    <tr>\n",
       "      <th>9</th>\n",
       "      <td>few people playing scoccer @ v/deck, very nois...</td>\n",
       "      <td>Congregation</td>\n",
       "    </tr>\n",
       "  </tbody>\n",
       "</table>\n",
       "</div>"
      ],
      "text/plain": [
       "                                             CONTENT CONTENT_label\n",
       "0  10am to 11am - resd f/b that the many prc ever...  Congregation\n",
       "1  email i would like to share another feedback o...  Congregation\n",
       "2  every week from monday to friday about 7pm to ...  Congregation\n",
       "3  children shouting & playing at v/deck blk 127 ...  Congregation\n",
       "4  blk 703 and 704 - kids still playing at v/deck...  Congregation\n",
       "5  grp of youth playing basket ball & making alot...  Congregation\n",
       "6      youth playing skateboard at mph. very noisy._  Congregation\n",
       "7  group of people playing music very loud at ope...  Congregation\n",
       "8  kids playing & shouting @ v/deck.  very noisy....  Congregation\n",
       "9  few people playing scoccer @ v/deck, very nois...  Congregation"
      ]
     },
     "execution_count": 3,
     "metadata": {},
     "output_type": "execute_result"
    }
   ],
   "source": [
    "df = pd.read_csv('./LabelledData.csv', encoding='latin1')\n",
    "df.head(10)"
   ]
  },
  {
   "cell_type": "code",
   "execution_count": 4,
   "metadata": {},
   "outputs": [
    {
     "data": {
      "text/html": [
       "<div>\n",
       "<style scoped>\n",
       "    .dataframe tbody tr th:only-of-type {\n",
       "        vertical-align: middle;\n",
       "    }\n",
       "\n",
       "    .dataframe tbody tr th {\n",
       "        vertical-align: top;\n",
       "    }\n",
       "\n",
       "    .dataframe thead th {\n",
       "        text-align: right;\n",
       "    }\n",
       "</style>\n",
       "<table border=\"1\" class=\"dataframe\">\n",
       "  <thead>\n",
       "    <tr style=\"text-align: right;\">\n",
       "      <th></th>\n",
       "      <th>CONTENT</th>\n",
       "      <th>CONTENT_label</th>\n",
       "    </tr>\n",
       "  </thead>\n",
       "  <tbody>\n",
       "    <tr>\n",
       "      <th>0</th>\n",
       "      <td>10am to 11am - resd f/b that the many prc ever...</td>\n",
       "      <td>Congregation</td>\n",
       "    </tr>\n",
       "    <tr>\n",
       "      <th>1</th>\n",
       "      <td>email i would like to share another feedback o...</td>\n",
       "      <td>Congregation</td>\n",
       "    </tr>\n",
       "    <tr>\n",
       "      <th>2</th>\n",
       "      <td>every week from monday to friday about 7pm to ...</td>\n",
       "      <td>Congregation</td>\n",
       "    </tr>\n",
       "    <tr>\n",
       "      <th>3</th>\n",
       "      <td>children shouting &amp; playing at v/deck blk 127 ...</td>\n",
       "      <td>Congregation</td>\n",
       "    </tr>\n",
       "    <tr>\n",
       "      <th>4</th>\n",
       "      <td>blk 703 and 704 - kids still playing at v/deck...</td>\n",
       "      <td>Congregation</td>\n",
       "    </tr>\n",
       "    <tr>\n",
       "      <th>5</th>\n",
       "      <td>grp of youth playing basket ball &amp; making alot...</td>\n",
       "      <td>Congregation</td>\n",
       "    </tr>\n",
       "    <tr>\n",
       "      <th>6</th>\n",
       "      <td>youth playing skateboard at mph. very noisy._</td>\n",
       "      <td>Congregation</td>\n",
       "    </tr>\n",
       "    <tr>\n",
       "      <th>7</th>\n",
       "      <td>group of people playing music very loud at ope...</td>\n",
       "      <td>Congregation</td>\n",
       "    </tr>\n",
       "    <tr>\n",
       "      <th>8</th>\n",
       "      <td>kids playing &amp; shouting @ v/deck.  very noisy....</td>\n",
       "      <td>Congregation</td>\n",
       "    </tr>\n",
       "    <tr>\n",
       "      <th>9</th>\n",
       "      <td>few people playing scoccer @ v/deck, very nois...</td>\n",
       "      <td>Congregation</td>\n",
       "    </tr>\n",
       "  </tbody>\n",
       "</table>\n",
       "</div>"
      ],
      "text/plain": [
       "                                             CONTENT CONTENT_label\n",
       "0  10am to 11am - resd f/b that the many prc ever...  Congregation\n",
       "1  email i would like to share another feedback o...  Congregation\n",
       "2  every week from monday to friday about 7pm to ...  Congregation\n",
       "3  children shouting & playing at v/deck blk 127 ...  Congregation\n",
       "4  blk 703 and 704 - kids still playing at v/deck...  Congregation\n",
       "5  grp of youth playing basket ball & making alot...  Congregation\n",
       "6      youth playing skateboard at mph. very noisy._  Congregation\n",
       "7  group of people playing music very loud at ope...  Congregation\n",
       "8  kids playing & shouting @ v/deck.  very noisy....  Congregation\n",
       "9  few people playing scoccer @ v/deck, very nois...  Congregation"
      ]
     },
     "execution_count": 4,
     "metadata": {},
     "output_type": "execute_result"
    }
   ],
   "source": [
    "df = df[['CONTENT','CONTENT_label']]\n",
    "df = df[pd.notnull(df['CONTENT'])]\n",
    "df.head(10)"
   ]
  },
  {
   "cell_type": "code",
   "execution_count": 5,
   "metadata": {},
   "outputs": [],
   "source": [
    "df.index = range(df.shape[0])"
   ]
  },
  {
   "cell_type": "code",
   "execution_count": 6,
   "metadata": {},
   "outputs": [
    {
     "data": {
      "text/plain": [
       "330064"
      ]
     },
     "execution_count": 6,
     "metadata": {},
     "output_type": "execute_result"
    }
   ],
   "source": [
    "df['CONTENT'].apply(lambda x: len(x.split(' '))).sum() # Number of words in all documents"
   ]
  },
  {
   "cell_type": "code",
   "execution_count": 7,
   "metadata": {},
   "outputs": [
    {
     "data": {
      "image/png": "[encoded data removed]",
      "text/plain": [
       "<Figure size 1728x576 with 1 Axes>"
      ]
     },
     "metadata": {
      "needs_background": "light"
     },
     "output_type": "display_data"
    }
   ],
   "source": [
    "cnt_pro = df['CONTENT_label'].value_counts()\n",
    "\n",
    "plt.figure(figsize=(24,8))\n",
    "sns.barplot(cnt_pro.index, cnt_pro.values, alpha=0.8)\n",
    "plt.ylabel('Number of Occurrences', fontsize=24)\n",
    "# Get current axis on current figure\n",
    "ax = plt.gca()\n",
    "\n",
    "# Iterate through the list of axes' patches\n",
    "for p in ax.patches:\n",
    "    ax.text(p.get_x() + p.get_width()/2., p.get_height(), '%d' % int(p.get_height()), \n",
    "            fontsize=24, color='black', ha='center', va='bottom')\n",
    "plt.xticks(rotation=90, fontsize=24)\n",
    "plt.yticks(fontsize=24)\n",
    "plt.show();"
   ]
  },
  {
   "cell_type": "code",
   "execution_count": 8,
   "metadata": {},
   "outputs": [],
   "source": [
    "def print_complaint(index):\n",
    "    example = df[df.index == index][['CONTENT', 'CONTENT_label']].values[0]\n",
    "    if len(example) > 0:\n",
    "        print(example[0])\n",
    "        print('Label:', example[1])"
   ]
  },
  {
   "cell_type": "code",
   "execution_count": 9,
   "metadata": {},
   "outputs": [
    {
     "name": "stdout",
     "output_type": "stream",
     "text": [
      "bunch of teenagers playing at badminton court creating noise and littering the place. req to stop them_\n",
      "Label: Congregation\n"
     ]
    }
   ],
   "source": [
    "print_complaint(12)"
   ]
  },
  {
   "cell_type": "markdown",
   "metadata": {},
   "source": [
    "### Text preprocessing\n",
    "\n",
    "Below we define a function to convert text to lower-case and strip punctuation/symbols from words and so on."
   ]
  },
  {
   "cell_type": "code",
   "execution_count": 10,
   "metadata": {},
   "outputs": [],
   "source": [
    "def cleanText(text):\n",
    "    text = re.sub(r'#', r'apartment unit ', text)\n",
    "    text = re.sub(r'['+string.punctuation+']', r\" \", text)\n",
    "    text = re.sub(r'[0-9]+', r' ', text)\n",
    "    text = re.sub('\\s+', \" \", text).strip()\n",
    "    text = text.lower()\n",
    "    text = re.sub(r\"\\bv deck\\b\", r\"voiddeck\", text)\n",
    "    text = re.sub(r\"\\bvd\\b\", r\"voiddeck\", text)\n",
    "    text = re.sub(r\"\\bv d\\b\", r\"voiddeck\", text)\n",
    "    text = re.sub(r\"\\bvdeck\\b\", r\"voiddeck\", text)\n",
    "    text = re.sub(r\"\\bvoid deck\\b\", r\"voiddeck\", text)\n",
    "    text = re.sub(r\"\\bfbck\\b\", r\"feedback\", text)\n",
    "    text = re.sub(r\"\\bfbk\\b\", r\"feedback\", text)\n",
    "    text = re.sub(r\"\\bf back\\b\", r\"feedback\", text)\n",
    "    text = re.sub(r\"\\bfback\\b\", r\"feedback\", text)\n",
    "    text = re.sub(r\"\\bfup\\b\", r\"feedback\", text)\n",
    "    text = re.sub(r\"\\bfb\\b\", r\"feedback\", text)\n",
    "    text = re.sub(r\"\\bres\\b\", r\"resident\", text)\n",
    "    text = re.sub(r\"\\bresd\\b\", r\"resident\", text)\n",
    "    text = re.sub(r\"\\bresid\\b\", r\"resident\", text)\n",
    "    text = re.sub(r\"\\breno\\b\", r\"renovation\", text)\n",
    "    text = re.sub(r\"\\bneighbour\\b\", r\"neighbor\", text)\n",
    "    text = re.sub(r\"\\bneighbours\\b\", r\"neighbor\", text)\n",
    "    text = re.sub(r\"\\bneighbors\\b\", r\"neighbor\", text)\n",
    "    text = re.sub(r\"\\breq\\b\", r\"request\", text)\n",
    "    text = re.sub(r\"\\brq\\b\", r\"request\", text)\n",
    "    text = re.sub(r\"\\binfd\\b\", r\"informed\", text)\n",
    "    text = re.sub(r\"\\badv\\b\", r\"advice\", text)\n",
    "    text = re.sub(r\"\\badvic\\b\", r\"advice\", text)\n",
    "    text = re.sub(r\"\\badvis\\b\", r\"advice\", text)\n",
    "    text = re.sub(r\"\\badvise\\b\", r\"advice\", text)\n",
    "    text = re.sub(r\"\\badviceeise\\b\", r\"advice\", text)\n",
    "    text = re.sub(r\"\\bppl\\b\", r\"people\", text)\n",
    "    text = re.sub(r\"\\bindians\\b\", r\"indian\", text)\n",
    "    text = re.sub(r\"\\bmalays\\b\", r\"malay\", text)\n",
    "    text = re.sub(r\"\\bment\\b\", r\"apartment\", text)\n",
    "    text = re.sub(r\"\\btcil\\b\", r\"towncouncil\", text)\n",
    "    text = re.sub(r\"\\btown council\\b\", r\"towncouncil\", text)\n",
    "    text = re.sub(r\"\\bcoffee shop\\b\", r\"coffeeshop\", text)\n",
    "    text = re.sub(r\"\\breno\\b\", r\"renovation\", text)\n",
    "    text = re.sub(r\"\\brenov\\b\", r\"renovation\", text)\n",
    "    text = re.sub(r\"\\bcpark\\b\", r\"carpark\", text)\n",
    "    text = re.sub(r\"\\bcar park\\b\", r\"carpark\", text)\n",
    "    text = re.sub(r\"\\bmscp\\b\", r\"multi-storey carpark\", text)\n",
    "    text = re.sub(r\"\\bmulti storey\\b\", r\"multi-storey\", text)\n",
    "    text = re.sub(r\"\\bmultistorey\\b\", r\"multi-storey\", text)\n",
    "    text = re.sub(r\"\\broad work\\b\", r\"roadworks\", text)\n",
    "    text = re.sub(r\"\\broad works\\b\", r\"roadworks\", text)\n",
    "    text = re.sub(r\"\\bfrm\\b\", r\"from\", text)\n",
    "    text = re.sub(r\"\\bgrp\\b\", r\"group\", text)\n",
    "    text = re.sub(r\"\\bhse\\b\", r\"house\", text)\n",
    "    text = re.sub(r\"\\bcan t\\b\", r\"cannot\", text)\n",
    "    text = re.sub(r\"\\bgrp\\b\", r\"group\", text)\n",
    "    text = re.sub(r\"\\bsaket bord\\b\", r\"skateboard\", text)\n",
    "    text = re.sub(r\"\\bw out\\b\", r\"without\", text)\n",
    "    text = re.sub(r\"\\bongg\\b\", r\"ongoing\", text)\n",
    "    text = re.sub(r\"\\bon gg\\b\", r\"ongoing\", text)\n",
    "    text = re.sub(r\"\\bfwake\\b\", r\"funeral wake\", text)\n",
    "    text = re.sub(r\"\\bcorr\\b\", r\"corridor\", text)\n",
    "    text = re.sub(r\"\\bcorri\\b\", r\"corridor\", text)\n",
    "    text = re.sub(r\"\\bcorridors\\b\", r\"corridor\", text)\n",
    "    text = re.sub(r\"\\bpg\\b\", r\"playground\", text)\n",
    "    text = re.sub(r\"\\bpgd\\b\", r\"playground\", text)\n",
    "    text = re.sub(r\"\\bpgrd\\b\", r\"playground\", text)\n",
    "    text = re.sub(r\"\\blway\\b\", r\"linkway\", text)\n",
    "    text = re.sub(r\"\\bl way\\b\", r\"linkway\", text)\n",
    "    text = re.sub(r\"\\bcontratcor\\b\", r\"linkway\", text)\n",
    "    text = re.sub(r\"\\bos\\b\", r\"outside\", text) \n",
    "    text = re.sub(r\"\\bo s\\b\", r\"outside\", text) \n",
    "    text = re.sub(r\"\\binfd\\b\", r\"informed\", text)\n",
    "    text = re.sub(r\"\\bfball\\b\", r\"football\", text)\n",
    "    text = re.sub(r\"\\bfoot ball\\b\", r\"football\", text)\n",
    "    text = re.sub(r\"\\brtop\\b\", r\"rooftop\", text)\n",
    "    text = re.sub(r\"\\br top\\b\", r\"rooftop\", text)\n",
    "    text = re.sub(r\"\\bramping\\b\", r\"revving\", text)\n",
    "    text = re.sub(r\"\\bramming\\b\", r\"revving\", text)\n",
    "    text = re.sub(r\"\\bcolln\\b\", r\"collection\", text)\n",
    "    text = re.sub(r\"\\bcontruction\\b\", r\"construction\", text)\n",
    "    text = re.sub(r\"\\bconctruction\\b\", r\"construction\", text)\n",
    "    text = re.sub(r\"\\bpurposed\\b\", r\"purpose\", text)\n",
    "    text = re.sub(r\"\\bmph\\b\", r\"multi-purpose hall\", text)\n",
    "    text = re.sub(r\"\\bmphall\\b\", r\"multi-purpose hall\", text)\n",
    "    text = re.sub(r\"\\bmulti purpose\\b\", r\"multi-purpose\", text)\n",
    "    text = re.sub(r\"\\bmultipurpose\\b\", r\"multi-purpose\", text)\n",
    "    text = re.sub(r\"\\bmulti purpos\\b\", r\"multi-purpose\", text)\n",
    "    text = re.sub(r\"\\bfurnitures\\b\", r\"furniture\", text)\n",
    "    text = re.sub(r\"\\bchairs\\b\", r\"chair\", text)\n",
    "    text = re.sub(r\"\\btables\\b\", r\"table\", text)\n",
    "    text = re.sub(r\"\\bcheers\\b\", r\"cheer\", text)\n",
    "    text = re.sub(r\"\\bsongs\\b\", r\"song\", text)\n",
    "    text = re.sub(r\"\\bsepak takraw\\b\", r\"sepaktakraw\", text)\n",
    "    text = re.sub(r\"\\bbadmointon\\b\", r\"badminton\", text)\n",
    "    text = re.sub(r\"\\bbadminton court\\b\", r\"badmintoncourt\", text)\n",
    "    text = re.sub(r\"\\bb minton\\b\", r\"badminton\", text)\n",
    "    text = re.sub(r\"\\bbasket ball\\b\", r\"basketball\", text)\n",
    "    text = re.sub(r\"\\bbasketball court\\b\", r\"basketballcourt\", text)\n",
    "    text = re.sub(r\"\\btakewondo\\b\", r\"taekwondo\", text)\n",
    "    text = re.sub(r\"\\btaichi\\b\", r\"tai chi\", text)\n",
    "    text = re.sub(r\"\\bgathing\\b\", r\"gathering\", text)\n",
    "    text = re.sub(r\"\\bsoccer court\\b\", r\"soccercourt\", text)\n",
    "    text = re.sub(r\"\\bfootball court\\b\", r\"footballcourt\", text)\n",
    "    return text"
   ]
  },
  {
   "cell_type": "code",
   "execution_count": 11,
   "metadata": {},
   "outputs": [
    {
     "data": {
      "text/plain": [
       "'group of boys playing soccer basketballcourt making lot of noise again and very dangerous reported nd times'"
      ]
     },
     "execution_count": 11,
     "metadata": {},
     "output_type": "execute_result"
    }
   ],
   "source": [
    "df['CONTENT_clean'] = df['CONTENT'].apply(cleanText)\n",
    "df['CONTENT_clean'].iloc[29]"
   ]
  },
  {
   "cell_type": "markdown",
   "metadata": {},
   "source": [
    "Define locations of noise and the activities causing it."
   ]
  },
  {
   "cell_type": "code",
   "execution_count": 12,
   "metadata": {},
   "outputs": [],
   "source": [
    "# Tag locations and activity to complaints where possible\n",
    "location = [\"void deck\",\n",
    "            \"multi-purpose hall\",\n",
    "            \"multi-purpose court\",\n",
    "            \"multi-purpose plaza\",\n",
    "            \"corridor\",\n",
    "            \"basketballcourt\", \n",
    "            \"badmintoncourt\",\n",
    "            \"soccercourt\",\n",
    "            \"footballcourt\",\n",
    "            \"playground\",\n",
    "            \"carpark\",\n",
    "            \"multi-storey carpark\",\n",
    "            \"coffeeshop\"]\n",
    "\n",
    "activity = [\"mahjong\",\n",
    "            \"babies\", \n",
    "            \"crying\",\n",
    "            \"dismantling\",\n",
    "            \"dismantle\",\n",
    "            \"furniture\", \n",
    "            \"drag\",\n",
    "            \"hack\",\n",
    "            \"push\", \n",
    "            \"drag\",\n",
    "            \"kick\",            \n",
    "            \"bang\",\n",
    "            \"table\",\n",
    "            \"chairs\", \n",
    "            \"pull\",\n",
    "            \"shout\",\n",
    "            \"talk\",\n",
    "            \"cheer\",\n",
    "            \"play\",\n",
    "            \"dance\",\n",
    "            \"dancing\"\n",
    "            \"music\",\n",
    "            \"song\",\n",
    "            \"dance\",\n",
    "            \"sepaktakraw\",\n",
    "            \"skateboard\", \n",
    "            \"wedding\", \n",
    "            \"funeral\", \n",
    "            \"party\", \n",
    "            \"taekwondo\",\n",
    "            \"exercise\",\n",
    "            \"exercising\",\n",
    "            \"wushu\",\n",
    "            \"tai chi\"]\n",
    "\n",
    "activity2 = ['basketball',\n",
    "             'football',\n",
    "             'soccer',\n",
    "             'badminton']"
   ]
  },
  {
   "cell_type": "code",
   "execution_count": 13,
   "metadata": {},
   "outputs": [
    {
     "data": {
      "text/plain": [
       "0                       \n",
       "1         badmintoncourt\n",
       "2                       \n",
       "3                       \n",
       "4             playground\n",
       "5        basketballcourt\n",
       "6     multi-purpose hall\n",
       "7                       \n",
       "8                       \n",
       "9                       \n",
       "10            playground\n",
       "11                      \n",
       "12        badmintoncourt\n",
       "13    multi-purpose hall\n",
       "14       basketballcourt\n",
       "15                      \n",
       "16                      \n",
       "17                      \n",
       "18                      \n",
       "19                      \n",
       "20                      \n",
       "21                      \n",
       "22                      \n",
       "23                      \n",
       "24                      \n",
       "25                      \n",
       "26    multi-purpose hall\n",
       "27                      \n",
       "28                      \n",
       "29       basketballcourt\n",
       "Name: Location, dtype: object"
      ]
     },
     "execution_count": 13,
     "metadata": {},
     "output_type": "execute_result"
    }
   ],
   "source": [
    "df['Location'] = \"\"\n",
    "\n",
    "location_lst = \"|\".join(location)\n",
    "\n",
    "ind = df.index[df['CONTENT_clean'].str.contains(location_lst)]\n",
    "\n",
    "for i in ind:\n",
    "    tmp = []\n",
    "    for word in location:\n",
    "        if word in df['CONTENT_clean'].loc[i]:\n",
    "            tmp.append(word)\n",
    "    if tmp:\n",
    "        df['Location'].loc[i] = ','.join(tmp)\n",
    "\n",
    "df['Location'].head(30)"
   ]
  },
  {
   "cell_type": "code",
   "execution_count": 14,
   "metadata": {
    "scrolled": true
   },
   "outputs": [
    {
     "data": {
      "text/plain": [
       "0                          \n",
       "1            play,badminton\n",
       "2                      talk\n",
       "3                shout,play\n",
       "4                      play\n",
       "5           play,basketball\n",
       "6           play,skateboard\n",
       "7                      play\n",
       "8                shout,play\n",
       "9                      play\n",
       "10                     play\n",
       "11                     play\n",
       "12                     play\n",
       "13              play,soccer\n",
       "14          play,basketball\n",
       "15                  funeral\n",
       "16                         \n",
       "17                         \n",
       "18                     talk\n",
       "19                         \n",
       "20               shout,play\n",
       "21                         \n",
       "22                     play\n",
       "23                     play\n",
       "24    shout,play,basketball\n",
       "25            play,football\n",
       "26                     play\n",
       "27              play,soccer\n",
       "28            play,football\n",
       "29              play,soccer\n",
       "Name: Activity, dtype: object"
      ]
     },
     "execution_count": 14,
     "metadata": {},
     "output_type": "execute_result"
    }
   ],
   "source": [
    "df['Activity'] = \"\"\n",
    "\n",
    "activity_lst = \"|\".join(activity)\n",
    "\n",
    "ind = df.index[df['CONTENT_clean'].str.contains(activity_lst)]\n",
    "\n",
    "for i in ind:\n",
    "    tmp = []\n",
    "    for word in activity:\n",
    "        if word in df['CONTENT_clean'].loc[i]:\n",
    "            tmp.append(word)\n",
    "    for word in activity2:\n",
    "        if re.search(r'\\b' + word + r'\\b', df['CONTENT_clean'].loc[i]):\n",
    "            tmp.append(word)\n",
    "    if tmp:\n",
    "        df['Activity'].loc[i] = ','.join(tmp)\n",
    "\n",
    "df['Activity'].head(30)"
   ]
  },
  {
   "cell_type": "markdown",
   "metadata": {},
   "source": [
    "Train/test split of 80/20."
   ]
  },
  {
   "cell_type": "code",
   "execution_count": 15,
   "metadata": {},
   "outputs": [],
   "source": [
    "X_train, X_test, y_train, y_test = train_test_split(df['CONTENT_clean'],df['CONTENT_label'], test_size=0.2, random_state=42)"
   ]
  },
  {
   "cell_type": "code",
   "execution_count": 16,
   "metadata": {},
   "outputs": [
    {
     "data": {
      "text/plain": [
       "'group of boys playing soccer at voiddeck very noisy and kicking balls at the wall and dirty the place very dangerous for resident'"
      ]
     },
     "execution_count": 16,
     "metadata": {},
     "output_type": "execute_result"
    }
   ],
   "source": [
    "X_train.iloc[0]"
   ]
  },
  {
   "cell_type": "markdown",
   "metadata": {},
   "source": [
    "The function below tokenizes the text data in each row (document) into individual words. Sentences smaller than 3 words and words that correspond to stopwords are discarded."
   ]
  },
  {
   "cell_type": "code",
   "execution_count": 17,
   "metadata": {},
   "outputs": [],
   "source": [
    "import nltk\n",
    "from nltk.corpus import stopwords\n",
    "\n",
    "def tokenize_text(text, stop_words):\n",
    "    tokens = []\n",
    "    for sent in nltk.sent_tokenize(text):\n",
    "        for word in nltk.word_tokenize(sent):\n",
    "            if len(word) < 3 or word in stop_words:\n",
    "                continue\n",
    "            tokens.append(word.lower())\n",
    "    return tokens\n",
    "\n",
    "stop_words = stopwords.words('english')"
   ]
  },
  {
   "cell_type": "markdown",
   "metadata": {},
   "source": [
    "Tokenize the training and test data."
   ]
  },
  {
   "cell_type": "code",
   "execution_count": 18,
   "metadata": {},
   "outputs": [],
   "source": [
    "for i in range(X_train.shape[0]):\n",
    "    X_train.iloc[i] = tokenize_text(X_train.iloc[i], stop_words)\n",
    "\n",
    "for i in range(X_test.shape[0]):\n",
    "    X_test.iloc[i] = tokenize_text(X_test.iloc[i], stop_words)"
   ]
  },
  {
   "cell_type": "markdown",
   "metadata": {},
   "source": [
    "This is what a training entry looks like."
   ]
  },
  {
   "cell_type": "code",
   "execution_count": 19,
   "metadata": {},
   "outputs": [
    {
     "data": {
      "text/plain": [
       "['group',\n",
       " 'boys',\n",
       " 'playing',\n",
       " 'soccer',\n",
       " 'voiddeck',\n",
       " 'noisy',\n",
       " 'kicking',\n",
       " 'balls',\n",
       " 'wall',\n",
       " 'dirty',\n",
       " 'place',\n",
       " 'dangerous',\n",
       " 'resident']"
      ]
     },
     "execution_count": 19,
     "metadata": {},
     "output_type": "execute_result"
    }
   ],
   "source": [
    "X_train.iloc[0]"
   ]
  },
  {
   "cell_type": "code",
   "execution_count": 20,
   "metadata": {},
   "outputs": [
    {
     "data": {
      "text/plain": [
       "(['elderly',\n",
       "  'man',\n",
       "  'playing',\n",
       "  'radio',\n",
       "  'loudly',\n",
       "  'function',\n",
       "  'hall',\n",
       "  'refer',\n",
       "  'lim',\n",
       "  'tanglin',\n",
       "  'police',\n",
       "  'station'],\n",
       " 'Neighbourly Disturbance')"
      ]
     },
     "execution_count": 20,
     "metadata": {},
     "output_type": "execute_result"
    }
   ],
   "source": [
    "X_train.iloc[30], y_train.iloc[30]"
   ]
  },
  {
   "cell_type": "markdown",
   "metadata": {},
   "source": [
    "## Training the model\n",
    "\n",
    "We'll instantiate a Word2Vec model using Distributed Bag of Words (DBOW). Another approach possible is Skip-gram method. However, for short text data, DBOW performs better."
   ]
  },
  {
   "cell_type": "markdown",
   "metadata": {},
   "source": [
    "Prepare word embeddings and train a new one from scratch"
   ]
  },
  {
   "cell_type": "code",
   "execution_count": 21,
   "metadata": {},
   "outputs": [],
   "source": [
    "import multiprocessing\n",
    "\n",
    "cores = multiprocessing.cpu_count()\n",
    "\n",
    "# train word2vec on all the training text\n",
    "# we're not using test labels, just texts so this is fine\n",
    "model = Word2Vec(X_train, size=25, window=3, min_count=10, workers=cores)\n",
    "w2v = {w: vec for w, vec in zip(model.wv.index2word, model.wv.vectors)}"
   ]
  },
  {
   "cell_type": "code",
   "execution_count": 22,
   "metadata": {},
   "outputs": [],
   "source": [
    "# reading glove files, this may take a while\n",
    "# we're reading line by line and only saving vectors\n",
    "# that correspond to words from our training set\n",
    "# if you wan't to play around with the vectors and have \n",
    "# enough RAM - remove the 'if' line and load everything\n",
    "\n",
    "import struct \n",
    "\n",
    "glove_small = {}\n",
    "all_words = set(w for words in X_train for w in words)\n",
    "with open(GLOVE_6B_50D_PATH, \"rb\") as infile:\n",
    "    for line in infile:\n",
    "        parts = line.split()\n",
    "        word = parts[0].decode(encoding)\n",
    "        if (word in all_words):\n",
    "            nums=np.array(parts[1:], dtype=np.float32)\n",
    "            glove_small[word] = nums"
   ]
  },
  {
   "cell_type": "markdown",
   "metadata": {},
   "source": [
    "Model definitions"
   ]
  },
  {
   "cell_type": "markdown",
   "metadata": {},
   "source": [
    "Classifiers using vector embeddings. We will implement an embedding vectorizer - a counterpart of CountVectorizer and TfidfVectorizer - that is given a word -> vector mapping and vectorizes texts by taking the mean of all the vectors corresponding to individual words."
   ]
  },
  {
   "cell_type": "code",
   "execution_count": 23,
   "metadata": {},
   "outputs": [],
   "source": [
    "class MeanEmbeddingVectorizer(object):\n",
    "    def __init__(self, word2vec):\n",
    "        self.word2vec = word2vec\n",
    "        if len(word2vec)>0:\n",
    "            self.dim=len(word2vec[next(iter(glove_small))])\n",
    "        else:\n",
    "            self.dim=0\n",
    "            \n",
    "    def fit(self, X, y):\n",
    "        return self \n",
    "\n",
    "    def transform(self, X):\n",
    "        return np.array([\n",
    "            np.mean([self.word2vec[w] for w in words if w in self.word2vec] \n",
    "                    or [np.zeros(self.dim)], axis=0)\n",
    "            for words in X\n",
    "        ])\n",
    "\n",
    "    \n",
    "# and a tf-idf version of the same\n",
    "class TfidfEmbeddingVectorizer(object):\n",
    "    def __init__(self, word2vec):\n",
    "        self.word2vec = word2vec\n",
    "        self.word2weight = None\n",
    "        if len(word2vec)>0:\n",
    "            self.dim=len(word2vec[next(iter(glove_small))])\n",
    "        else:\n",
    "            self.dim=0\n",
    "        \n",
    "    def fit(self, X, y):\n",
    "        tfidf = TfidfVectorizer(analyzer=lambda x: x)\n",
    "        tfidf.fit(X)\n",
    "        # if a word was never seen - it must be at least as infrequent\n",
    "        # as any of the known words - so the default idf is the max of \n",
    "        # known idf's\n",
    "        max_idf = max(tfidf.idf_)\n",
    "        self.word2weight = defaultdict(\n",
    "            lambda: max_idf, \n",
    "            [(w, tfidf.idf_[i]) for w, i in tfidf.vocabulary_.items()])\n",
    "    \n",
    "        return self\n",
    "    \n",
    "    def transform(self, X):\n",
    "        return np.array([\n",
    "                np.mean([self.word2vec[w] * self.word2weight[w]\n",
    "                         for w in words if w in self.word2vec] or\n",
    "                        [np.zeros(self.dim)], axis=0)\n",
    "                for words in X\n",
    "            ])"
   ]
  },
  {
   "cell_type": "markdown",
   "metadata": {},
   "source": [
    "Here, we initialize the Extra Tree Classifiers using the Word2Vec model and train them using 2 different vector embeddings defined above. Extra Tree Classifiers are an extension and generalization of Random Forest classifier. Unlike Random Forest, Extra Tree Classifiers do not use bootstrap copies of the training data and selects a cut-point at random. This provides 2 benefits - 1) increased accuracy and 2) reduces computational burden which leads to faster training and classification."
   ]
  },
  {
   "cell_type": "code",
   "execution_count": 24,
   "metadata": {},
   "outputs": [],
   "source": [
    "etree_w2v = Pipeline([(\"word2vec vectorizer\", MeanEmbeddingVectorizer(w2v)), \n",
    "                        (\"extra trees\", ExtraTreesClassifier(n_estimators=250))])\n",
    "etree_w2v_tfidf = Pipeline([(\"word2vec vectorizer\", TfidfEmbeddingVectorizer(w2v)), \n",
    "                        (\"extra trees\", ExtraTreesClassifier(n_estimators=250))])"
   ]
  },
  {
   "cell_type": "markdown",
   "metadata": {},
   "source": [
    "Run 10-fold cross validation on all the models on the training set to find the model with the best accuracy."
   ]
  },
  {
   "cell_type": "code",
   "execution_count": 26,
   "metadata": {},
   "outputs": [
    {
     "name": "stdout",
     "output_type": "stream",
     "text": [
      "model        score\n",
      "---------  -------\n",
      "w2v         0.7951\n",
      "w2v_tfidf   0.7909\n"
     ]
    }
   ],
   "source": [
    "all_models = [\n",
    "    (\"w2v\", etree_w2v),\n",
    "    (\"w2v_tfidf\", etree_w2v_tfidf),\n",
    "]\n",
    "\n",
    "\n",
    "unsorted_scores = [(name, cross_val_score(model, X_train, y_train, cv=10).mean()) for name, model in all_models]\n",
    "scores = sorted(unsorted_scores, key=lambda x: -x[1])\n",
    "\n",
    "\n",
    "print (tabulate(scores, floatfmt=\".4f\", headers=(\"model\", 'score')))"
   ]
  },
  {
   "cell_type": "markdown",
   "metadata": {},
   "source": [
    "Train the classifer with the best cross validation score."
   ]
  },
  {
   "cell_type": "code",
   "execution_count": 27,
   "metadata": {},
   "outputs": [],
   "source": [
    "etree_w2v.fit(X_train,y_train)\n",
    "\n",
    "# save the model to disk\n",
    "pickle.dump(etree_w2v, open('noise_categories_model_etree_w2v.pkl', 'wb'))"
   ]
  },
  {
   "cell_type": "code",
   "execution_count": 28,
   "metadata": {},
   "outputs": [
    {
     "name": "stdout",
     "output_type": "stream",
     "text": [
      "                         precision    recall  f1-score   support\n",
      "\n",
      "           Congregation       0.99      1.00      1.00      1880\n",
      "           Construction       1.00      1.00      1.00      2434\n",
      "Neighbourly Disturbance       1.00      0.99      1.00      1362\n",
      "                 Others       1.00      0.99      1.00      1047\n",
      "               Vehicles       1.00      1.00      1.00       643\n",
      "\n",
      "              micro avg       1.00      1.00      1.00      7366\n",
      "              macro avg       1.00      1.00      1.00      7366\n",
      "           weighted avg       1.00      1.00      1.00      7366\n",
      "\n"
     ]
    }
   ],
   "source": [
    "# load the model from disk\n",
    "etree_w2v = pickle.load(open('noise_categories_model_etree_w2v.pkl', 'rb'))\n",
    "\n",
    "y_pred = etree_w2v.predict(X_train)\n",
    "\n",
    "print(classification_report(y_train, y_pred))"
   ]
  },
  {
   "cell_type": "markdown",
   "metadata": {},
   "source": [
    "So, in general, when trained on the whole data, the accuracy is almost 100% for all categories. This clearly highlights that the model is __overfiiting__ the data as when cross-validated, the accuracy is almost 20% less. This is a known problem with tree-based classifiers. One way to mitigate this is to reduce the number of trees (at the moment, it has been set to 250)."
   ]
  },
  {
   "cell_type": "markdown",
   "metadata": {
    "collapsed": true
   },
   "source": [
    "## Running classifer on test set"
   ]
  },
  {
   "cell_type": "code",
   "execution_count": 29,
   "metadata": {},
   "outputs": [],
   "source": [
    "# load the model from disk\n",
    "etree_w2v = pickle.load(open('noise_categories_model_etree_w2v.pkl', 'rb'))"
   ]
  },
  {
   "cell_type": "code",
   "execution_count": 30,
   "metadata": {},
   "outputs": [],
   "source": [
    "y_score = etree_w2v.predict_proba(X_test)\n",
    "y_pred = etree_w2v.predict(X_test)"
   ]
  },
  {
   "cell_type": "code",
   "execution_count": 31,
   "metadata": {},
   "outputs": [
    {
     "name": "stdout",
     "output_type": "stream",
     "text": [
      "                         precision    recall  f1-score   support\n",
      "\n",
      "           Congregation       0.78      0.84      0.81       483\n",
      "           Construction       0.88      0.96      0.92       581\n",
      "Neighbourly Disturbance       0.81      0.82      0.82       347\n",
      "                 Others       0.56      0.37      0.45       276\n",
      "               Vehicles       0.66      0.66      0.66       155\n",
      "\n",
      "              micro avg       0.79      0.79      0.79      1842\n",
      "              macro avg       0.74      0.73      0.73      1842\n",
      "           weighted avg       0.78      0.79      0.78      1842\n",
      "\n"
     ]
    }
   ],
   "source": [
    "print(classification_report(y_test, y_pred))"
   ]
  },
  {
   "cell_type": "code",
   "execution_count": null,
   "metadata": {},
   "outputs": [],
   "source": []
  }
 ],
 "metadata": {
  "kernelspec": {
   "display_name": "Python 3",
   "language": "python",
   "name": "python3"
  },
  "language_info": {
   "codemirror_mode": {
    "name": "ipython",
    "version": 3
   },
   "file_extension": ".py",
   "mimetype": "text/x-python",
   "name": "python",
   "nbconvert_exporter": "python",
   "pygments_lexer": "ipython3",
   "version": "3.6.6"
  }
 },
 "nbformat": 4,
 "nbformat_minor": 2
}
